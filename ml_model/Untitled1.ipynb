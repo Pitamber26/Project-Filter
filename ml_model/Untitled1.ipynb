{
 "cells": [
  {
   "cell_type": "markdown",
   "id": "20b61b5c-3efc-496d-b570-35ade5e91d03",
   "metadata": {},
   "source": [
    "# Data\n",
    "In this project, we will work with Material Analytics.csv file. The file contains four columns - \n",
    "Name - this is the name of various projects. Project names are repeated for entry of all the details regarding the project.\n",
    "Device Description - The device used in the project.\n",
    "Type Description - Type of device used.\n",
    "Manufacturer - Manufacturer of the device.\n",
    "\n",
    "# Aim:\n",
    "Based on user search inputs provided for Device Description, Type Description and Manufacturer we need to provide list of all the projects that fulfill all the criteria.\n",
    "\n"
   ]
  },
  {
   "cell_type": "code",
   "execution_count": 17,
   "id": "a172e399-8cdf-4dd5-a049-89cadffb2560",
   "metadata": {},
   "outputs": [],
   "source": [
    "import pandas as pd\n",
    "import numpy as np\n"
   ]
  },
  {
   "cell_type": "code",
   "execution_count": 18,
   "id": "5ee401fc-04fa-4b52-bbb3-4a56f6290db0",
   "metadata": {},
   "outputs": [],
   "source": [
    "df = pd.read_csv(\"Material Analyticsp.csv\",encoding='latin-1')"
   ]
  },
  {
   "cell_type": "code",
   "execution_count": 19,
   "id": "e97d0be5-7467-469d-a717-0117790f96e3",
   "metadata": {},
   "outputs": [
    {
     "data": {
      "text/html": [
       "<div>\n",
       "<style scoped>\n",
       "    .dataframe tbody tr th:only-of-type {\n",
       "        vertical-align: middle;\n",
       "    }\n",
       "\n",
       "    .dataframe tbody tr th {\n",
       "        vertical-align: top;\n",
       "    }\n",
       "\n",
       "    .dataframe thead th {\n",
       "        text-align: right;\n",
       "    }\n",
       "</style>\n",
       "<table border=\"1\" class=\"dataframe\">\n",
       "  <thead>\n",
       "    <tr style=\"text-align: right;\">\n",
       "      <th></th>\n",
       "      <th>Name</th>\n",
       "      <th>Device Description</th>\n",
       "      <th>Type Description</th>\n",
       "      <th>Manufacturer</th>\n",
       "    </tr>\n",
       "  </thead>\n",
       "  <tbody>\n",
       "    <tr>\n",
       "      <th>0</th>\n",
       "      <td>Project1</td>\n",
       "      <td>Auxiliary contact unit for distribution board</td>\n",
       "      <td>S2C-H6-11R</td>\n",
       "      <td>ABB</td>\n",
       "    </tr>\n",
       "  </tbody>\n",
       "</table>\n",
       "</div>"
      ],
      "text/plain": [
       "       Name                             Device Description Type Description  \\\n",
       "0  Project1  Auxiliary contact unit for distribution board       S2C-H6-11R   \n",
       "\n",
       "  Manufacturer  \n",
       "0          ABB  "
      ]
     },
     "execution_count": 19,
     "metadata": {},
     "output_type": "execute_result"
    }
   ],
   "source": [
    "df.head(1)"
   ]
  },
  {
   "cell_type": "code",
   "execution_count": 20,
   "id": "51271169-f210-4ee4-b77b-dc092e1f8caf",
   "metadata": {},
   "outputs": [
    {
     "data": {
      "text/html": [
       "<div>\n",
       "<style scoped>\n",
       "    .dataframe tbody tr th:only-of-type {\n",
       "        vertical-align: middle;\n",
       "    }\n",
       "\n",
       "    .dataframe tbody tr th {\n",
       "        vertical-align: top;\n",
       "    }\n",
       "\n",
       "    .dataframe thead th {\n",
       "        text-align: right;\n",
       "    }\n",
       "</style>\n",
       "<table border=\"1\" class=\"dataframe\">\n",
       "  <thead>\n",
       "    <tr style=\"text-align: right;\">\n",
       "      <th></th>\n",
       "      <th>Name</th>\n",
       "      <th>Device Description</th>\n",
       "      <th>Type Description</th>\n",
       "      <th>Manufacturer</th>\n",
       "    </tr>\n",
       "  </thead>\n",
       "  <tbody>\n",
       "    <tr>\n",
       "      <th>2269</th>\n",
       "      <td>Project42</td>\n",
       "      <td>End cover</td>\n",
       "      <td>D-URTK-BEN</td>\n",
       "      <td>Phoenix Contact GmbH &amp; Co. KG</td>\n",
       "    </tr>\n",
       "  </tbody>\n",
       "</table>\n",
       "</div>"
      ],
      "text/plain": [
       "           Name Device Description Type Description  \\\n",
       "2269  Project42          End cover       D-URTK-BEN   \n",
       "\n",
       "                       Manufacturer  \n",
       "2269  Phoenix Contact GmbH & Co. KG  "
      ]
     },
     "execution_count": 20,
     "metadata": {},
     "output_type": "execute_result"
    }
   ],
   "source": [
    "df.tail(1)"
   ]
  },
  {
   "cell_type": "code",
   "execution_count": 21,
   "id": "1c82b125-1762-4b48-8476-5abcc9a20cac",
   "metadata": {},
   "outputs": [],
   "source": [
    "imp_features = ['Device Description','Type Description' , 'Manufacturer']"
   ]
  },
  {
   "cell_type": "markdown",
   "id": "ab55e2bf-6011-4e4e-b042-aaf42d9a31ee",
   "metadata": {},
   "source": [
    "# inputdata \n",
    "\n",
    " Returns a dictionary having keys as important features and values as list of all the inputs we want to check in the feature"
   ]
  },
  {
   "cell_type": "code",
   "execution_count": 22,
   "id": "8f472990-e281-4e57-b6bc-65a964f0e22f",
   "metadata": {},
   "outputs": [
    {
     "name": "stdin",
     "output_type": "stream",
     "text": [
      "Enter Device Description separated by \" , \" End cover , Auxiliary contact unit for distribution board\n",
      "Enter Type Description separated by \" , \" S2C-H6-11R\n",
      "Enter Manufacturer separated by \" , \" \n"
     ]
    }
   ],
   "source": [
    "from input import inputdata\n",
    "y = inputdata(imp_features)"
   ]
  },
  {
   "cell_type": "code",
   "execution_count": 23,
   "id": "74602999-7eb4-4241-acad-28843b1f8ba7",
   "metadata": {},
   "outputs": [
    {
     "data": {
      "text/plain": [
       "{'Device Description': ['End cover',\n",
       "  'Auxiliary contact unit for distribution board'],\n",
       " 'Type Description': ['S2C-H6-11R'],\n",
       " 'Manufacturer': ['']}"
      ]
     },
     "execution_count": 23,
     "metadata": {},
     "output_type": "execute_result"
    }
   ],
   "source": [
    "y"
   ]
  },
  {
   "cell_type": "markdown",
   "id": "3c760c4d-b1a5-4888-b204-c7209818f580",
   "metadata": {},
   "source": [
    "# item_check\n",
    "It checks whether the data entered by the user is present in the data frame columns or not. If present it will return success else an error message will pop up "
   ]
  },
  {
   "cell_type": "code",
   "execution_count": 24,
   "id": "43924756-a5c3-4864-97bc-816f0c370cda",
   "metadata": {},
   "outputs": [],
   "source": [
    "from ItemCheck import item_check"
   ]
  },
  {
   "cell_type": "code",
   "execution_count": 25,
   "id": "bece0b6f-ed38-489e-a46a-e017f793a35b",
   "metadata": {},
   "outputs": [
    {
     "name": "stdout",
     "output_type": "stream",
     "text": [
      "Success\n",
      "Success\n",
      "Success\n"
     ]
    }
   ],
   "source": [
    "for i in y:\n",
    "    if(len(y[i][0])) != 0:\n",
    "        result = item_check(df[str(i)] , y[i])\n",
    "        if(result == 0):\n",
    "            print(f\"Wrong Inputs Given in {i}\")\n",
    "            break\n",
    "    print(\"Success\")"
   ]
  },
  {
   "cell_type": "markdown",
   "id": "6aad72c8-5b49-48a9-b626-608daa742610",
   "metadata": {},
   "source": [
    "# find_projects_by_input \n",
    "Find project names that have all the given material values. Executed if only result == 1"
   ]
  },
  {
   "cell_type": "code",
   "execution_count": 30,
   "id": "7272c65f-456d-4e07-b100-0a23cd6670cb",
   "metadata": {},
   "outputs": [],
   "source": [
    "if result == 1:\n",
    "    from Fetch import find_projects_by_input\n",
    "    combined = df['Name'].tolist()\n",
    "    for i in y :\n",
    "        if(len(y[i][0])) != 0:\n",
    "            combined = set(find_projects_by_input(df, str(i) ,y[i]))& set(combined)\n",
    "    combined"
   ]
  },
  {
   "cell_type": "code",
   "execution_count": 31,
   "id": "8e96ea95-3065-4e65-a3b7-0368b999b1e7",
   "metadata": {},
   "outputs": [
    {
     "data": {
      "text/plain": [
       "{'Project1',\n",
       " 'Project12',\n",
       " 'Project26',\n",
       " 'Project27',\n",
       " 'Project33',\n",
       " 'Project34',\n",
       " 'Project36',\n",
       " 'Project5',\n",
       " 'Project7'}"
      ]
     },
     "execution_count": 31,
     "metadata": {},
     "output_type": "execute_result"
    }
   ],
   "source": [
    "combined"
   ]
  }
 ],
 "metadata": {
  "kernelspec": {
   "display_name": "Python 3 (ipykernel)",
   "language": "python",
   "name": "python3"
  },
  "language_info": {
   "codemirror_mode": {
    "name": "ipython",
    "version": 3
   },
   "file_extension": ".py",
   "mimetype": "text/x-python",
   "name": "python",
   "nbconvert_exporter": "python",
   "pygments_lexer": "ipython3",
   "version": "3.11.7"
  }
 },
 "nbformat": 4,
 "nbformat_minor": 5
}
